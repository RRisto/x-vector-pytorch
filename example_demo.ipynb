{
 "cells": [
  {
   "cell_type": "code",
   "execution_count": 2,
   "metadata": {},
   "outputs": [],
   "source": [
    "from x_vectors.trainer import Trainer, Args"
   ]
  },
  {
   "cell_type": "markdown",
   "metadata": {},
   "source": [
    "## Train"
   ]
  },
  {
   "cell_type": "code",
   "execution_count": 3,
   "metadata": {},
   "outputs": [
    {
     "name": "stdout",
     "output_type": "stream",
     "text": [
      "{'batch_size': 256,\n",
      " 'betas': (0.9, 0.98),\n",
      " 'eps': 1e-09,\n",
      " 'input_dim': 257,\n",
      " 'lamda_val': 0.1,\n",
      " 'lr': 0.001,\n",
      " 'num_classes': 3,\n",
      " 'num_epochs': 100,\n",
      " 'save_folder': 'save_model',\n",
      " 'testing_filepath': 'meta_et_ru_fi/testing.txt',\n",
      " 'training_filepath': 'meta_et_ru_fi/training.txt',\n",
      " 'use_gpu': True,\n",
      " 'validation_filepath': 'meta_et_ru_fi/validation.txt',\n",
      " 'weight_decay': 0.0}\n"
     ]
    }
   ],
   "source": [
    "#efault args, can chnage them\n",
    "args=Args()\n",
    "args.get_args()"
   ]
  },
  {
   "cell_type": "code",
   "execution_count": 4,
   "metadata": {},
   "outputs": [],
   "source": [
    "#init trainer\n",
    "trainer=Trainer(args)"
   ]
  },
  {
   "cell_type": "code",
   "execution_count": 5,
   "metadata": {},
   "outputs": [
    {
     "name": "stdout",
     "output_type": "stream",
     "text": [
      "Total training loss 1.099 and training accuracy 0.333 after 0 epochs, last epoch train time 9.369 sec\n",
      "Total validation loss 1.088 and validation accuracy 0.5 after 0 epochs\n",
      "saved best model to save_model\\best_check_point_0_1.0882411003112793\n",
      "Total training loss 1.098 and training accuracy 0.333 after 1 epochs, last epoch train time 12.221 sec\n",
      "Total validation loss 1.099 and validation accuracy 0.2 after 1 epochs\n",
      "saved best model to save_model\\best_check_point_1_1.0990434885025024\n",
      "Total training loss 1.064 and training accuracy 0.667 after 2 epochs, last epoch train time 11.482 sec\n",
      "Total validation loss 1.107 and validation accuracy 0.1 after 2 epochs\n",
      "saved best model to save_model\\best_check_point_2_1.1069493293762207\n"
     ]
    }
   ],
   "source": [
    "#train\n",
    "trainer.train(3)"
   ]
  },
  {
   "cell_type": "markdown",
   "metadata": {},
   "source": [
    "## Predict"
   ]
  },
  {
   "cell_type": "code",
   "execution_count": 6,
   "metadata": {},
   "outputs": [
    {
     "data": {
      "text/plain": [
       "[tensor([ 0.0823, -0.0775,  0.0414])]"
      ]
     },
     "execution_count": 6,
     "metadata": {},
     "output_type": "execute_result"
    }
   ],
   "source": [
    "logits, x_vec=trainer.predict(['data/raw/et/et_3716041.wav'])\n",
    "logits"
   ]
  },
  {
   "cell_type": "code",
   "execution_count": 7,
   "metadata": {},
   "outputs": [
    {
     "data": {
      "text/plain": [
       "tensor([-0.0116, -0.0016, -0.0147,  0.0306, -0.0305, -0.0385,  0.0143,  0.0204,\n",
       "        -0.0078,  0.0246])"
      ]
     },
     "execution_count": 7,
     "metadata": {},
     "output_type": "execute_result"
    }
   ],
   "source": [
    "x_vec[0][:10]"
   ]
  },
  {
   "cell_type": "markdown",
   "metadata": {},
   "source": [
    "## Load saved model"
   ]
  },
  {
   "cell_type": "code",
   "execution_count": 10,
   "metadata": {},
   "outputs": [],
   "source": [
    "trainer2=Trainer.load_model('save_model/model_args.txt','save_model/best_check_point_2_1.1069493293762207')"
   ]
  },
  {
   "cell_type": "code",
   "execution_count": 11,
   "metadata": {},
   "outputs": [
    {
     "name": "stdout",
     "output_type": "stream",
     "text": [
      "Total training loss 0.814 and training accuracy 0.556 after 0 epochs, last epoch train time 8.564 sec\n",
      "Total validation loss 1.404 and validation accuracy 0.2 after 0 epochs\n",
      "saved best model to save_model\\best_check_point_0_1.4039020538330078\n"
     ]
    }
   ],
   "source": [
    "trainer2.train(1)"
   ]
  },
  {
   "cell_type": "code",
   "execution_count": null,
   "metadata": {},
   "outputs": [],
   "source": []
  }
 ],
 "metadata": {
  "kernelspec": {
   "display_name": "Python 3",
   "language": "python",
   "name": "python3"
  },
  "language_info": {
   "codemirror_mode": {
    "name": "ipython",
    "version": 3
   },
   "file_extension": ".py",
   "mimetype": "text/x-python",
   "name": "python",
   "nbconvert_exporter": "python",
   "pygments_lexer": "ipython3",
   "version": "3.7.4"
  }
 },
 "nbformat": 4,
 "nbformat_minor": 2
}
